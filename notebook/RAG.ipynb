{
 "cells": [
  {
   "cell_type": "code",
   "execution_count": 1,
   "id": "fffa23bd",
   "metadata": {},
   "outputs": [
    {
     "name": "stderr",
     "output_type": "stream",
     "text": [
      "/home/g/10/week6/Intelligent-Complaint-Analysis-for-Financial-Services/.venv/lib/python3.12/site-packages/tqdm/auto.py:21: TqdmWarning: IProgress not found. Please update jupyter and ipywidgets. See https://ipywidgets.readthedocs.io/en/stable/user_install.html\n",
      "  from .autonotebook import tqdm as notebook_tqdm\n"
     ]
    }
   ],
   "source": [
    "import numpy as np\n",
    "import pandas as pd\n",
    "from sentence_transformers import SentenceTransformer\n",
    "import faiss\n",
    "from transformers import pipeline\n",
    "import warnings\n",
    "warnings.filterwarnings(\"ignore\", category=UserWarning)"
   ]
  },
  {
   "cell_type": "code",
   "execution_count": 2,
   "id": "e5c333c2",
   "metadata": {},
   "outputs": [],
   "source": [
    "# Load the FAISS index and metadata\n",
    "index = faiss.read_index('vector_store/faiss_index.index')\n",
    "metadata_df = pd.read_csv('vector_store/metadata.csv')"
   ]
  },
  {
   "cell_type": "code",
   "execution_count": 4,
   "id": "ca1b9038",
   "metadata": {},
   "outputs": [
    {
     "name": "stderr",
     "output_type": "stream",
     "text": [
      "Device set to use cpu\n"
     ]
    }
   ],
   "source": [
    "# Load the embedding model\n",
    "embedding_model = SentenceTransformer('sentence-transformers/all-MiniLM-L6-v2')\n",
    "generator = pipeline('text-generation', model='EleutherAI/gpt-neo-2.7B')  # Alternative model\n",
    "# Initialize the language model for text generation\n",
    "#generator = pipeline('text-generation', model='gpt-3.5-turbo')  # Ensure you have access\n",
    "def retrieve_relevant_chunks(question, k=5):\n",
    "    # Embed the user's question\n",
    "    question_embedding = embedding_model.encode([question])\n",
    "    # Perform similarity search in the FAISS index\n",
    "    distances, indices = index.search(np.array(question_embedding, dtype=np.float32), k)\n",
    "    \n",
    "    # Retrieve the corresponding chunks and metadata\n",
    "    retrieved_chunks = []\n",
    "    for idx in indices[0]:\n",
    "        if idx != -1:  # Ensure the index is valid\n",
    "            retrieved_chunks.append(metadata_df.iloc[idx]['original_id'])\n",
    "    \n",
    "    return retrieved_chunks"
   ]
  },
  {
   "cell_type": "code",
   "execution_count": 7,
   "id": "31cd755b",
   "metadata": {},
   "outputs": [
    {
     "name": "stderr",
     "output_type": "stream",
     "text": [
      "Truncation was not explicitly activated but `max_length` is provided a specific value, please use `truncation=True` to explicitly truncate examples to max length. Defaulting to 'longest_first' truncation strategy. If you encode pairs of sequences (GLUE-style) with the tokenizer you can select this strategy more precisely by providing a specific strategy to `truncation`.\n",
      "Setting `pad_token_id` to `eos_token_id`:50256 for open-end generation.\n",
      "Both `max_new_tokens` (=256) and `max_length`(=150) seem to have been set. `max_new_tokens` will take precedence. Please refer to the documentation for more information. (https://huggingface.co/docs/transformers/main/en/main_classes/text_generation)\n"
     ]
    },
    {
     "name": "stdout",
     "output_type": "stream",
     "text": [
      "Generated Answer: You are a financial analyst assistant for CrediTrust. Your task is to answer questions about customer complaints. Use the following retrieved complaint excerpts to formulate your answer. If the context doesn't contain the answer, state that you don't have enough information. Context: 2384261\n",
      "10275768\n",
      "12507997\n",
      "9455030\n",
      "10147009 Question: What issues do customers face with credit cards? Answer: They have long processing times and high credit card fees. The complaint does not identify exactly which issues customers are facing, but that they have a lot of complaints about their credit cards.\n",
      "10923192\n",
      "11472041\n",
      "10653555\n",
      "10443984\n",
      "10653420\n",
      "10127896 Question: What is the source of a complaint, and where can I find more information on it? Answer: The complaint is most likely from the customer. When a customer makes a complaint, CrediTrust tries to get in touch with the person. If you do not have enough information to answer that question, state that. Context: 12471138\n",
      "11472202\n",
      "10661318\n",
      "11472038\n",
      "10034693\n",
      "10479823\n",
      "10123170 Question: When an item is available on one website but not another, which one should I use? Answer: You should use the most popular web site. That’s what CrediTrust is supposed to do, but it isn't. The complaint comes from the customers so we should go look at customer reviews. A person who recently bought an item may not have seen it or used it yet.\n",
      "10762313\n",
      "11472404\n"
     ]
    }
   ],
   "source": [
    "def generate_answer(question, context):\n",
    "    # Define the prompt template\n",
    "    prompt_template = (\n",
    "        \"You are a financial analyst assistant for CrediTrust. \"\n",
    "        \"Your task is to answer questions about customer complaints. \"\n",
    "        \"Use the following retrieved complaint excerpts to formulate your answer. \"\n",
    "        \"If the context doesn't contain the answer, state that you don't have enough information. \"\n",
    "        \"Context: {context} \"\n",
    "        \"Question: {question} \"\n",
    "        \"Answer:\"\n",
    "    )\n",
    "    \n",
    "    # Ensure all context items are strings\n",
    "    context_str = \"\\n\".join(str(chunk) for chunk in context)\n",
    "    \n",
    "    # Generate the final prompt\n",
    "    prompt = prompt_template.format(context=context_str, question=question)\n",
    "    \n",
    "    # Get the generated response from the model\n",
    "    response = generator(prompt, max_length=150)\n",
    "    return response[0]['generated_text']\n",
    "\n",
    "# Example usage\n",
    "if __name__ == \"__main__\":\n",
    "    sample_question = \"What issues do customers face with credit cards?\"\n",
    "    relevant_chunks = retrieve_relevant_chunks(sample_question)\n",
    "    generated_answer = generate_answer(sample_question, relevant_chunks)\n",
    "    print(\"Generated Answer:\", generated_answer)"
   ]
  }
 ],
 "metadata": {
  "kernelspec": {
   "display_name": ".venv",
   "language": "python",
   "name": "python3"
  },
  "language_info": {
   "codemirror_mode": {
    "name": "ipython",
    "version": 3
   },
   "file_extension": ".py",
   "mimetype": "text/x-python",
   "name": "python",
   "nbconvert_exporter": "python",
   "pygments_lexer": "ipython3",
   "version": "3.12.3"
  }
 },
 "nbformat": 4,
 "nbformat_minor": 5
}
